{
  "nbformat": 4,
  "nbformat_minor": 0,
  "metadata": {
    "colab": {
      "name": "Untitled98.ipynb",
      "provenance": [],
      "authorship_tag": "ABX9TyPGb/DtTjuNgjas1hsQPFyd",
      "include_colab_link": true
    },
    "kernelspec": {
      "name": "python3",
      "display_name": "Python 3"
    }
  },
  "cells": [
    {
      "cell_type": "markdown",
      "metadata": {
        "id": "view-in-github",
        "colab_type": "text"
      },
      "source": [
        "<a href=\"https://colab.research.google.com/github/Pedro-Henrique8899-eng/covid-19-data/blob/master/analisando_casos_de_covid.ipynb\" target=\"_parent\"><img src=\"https://colab.research.google.com/assets/colab-badge.svg\" alt=\"Open In Colab\"/></a>"
      ]
    },
    {
      "cell_type": "markdown",
      "metadata": {
        "id": "PnnR26sim_ad"
      },
      "source": [
        "## Obtenção de Dados\n",
        "\n",
        "A coleta de dados para análises tem sido um desafio e tanto durante o período pandêmico, uma vez que, as fontes para obtenção de dados são as mais variadas. Temos os dados disponiblizados pelo governo federal, imprensa, pelos estados e os dados não oficiais.\n",
        "\n",
        "Analisar uma doença nova já é um desafio gigantesco, em um país como o Brasil onde não se tem uma cultura de dados esse desafio se torna ainda maior."
      ]
    },
    {
      "cell_type": "markdown",
      "metadata": {
        "id": "cVL6MsPvt5gt"
      },
      "source": [
        "## Dicionário de Variáveis\n",
        "\n",
        "* ...iso_code - Código\n",
        "* ...continent - Continente\n",
        "* ...location - localização\n",
        "* ...date - data\n",
        "* ...total_cases - total de casos\n",
        "* ...new_cases - novos casos\n",
        "* ...total_deaths - total de mortes\n",
        "* ...new_deaths - novas mortes\n",
        "* ...total_cases_per_million - total de casos por milhão\n",
        "* ...new_cases_per_million - novos casos por milhão\n",
        "* ...total_deaths_per_million - total de mortes por milhão\n",
        "* ...total_tests - total de testes\n",
        "* ...new_tests - novos testes\n",
        "* ...total_tests_per_thousand - total de testes por mil habitantes\n",
        "* ...new_tests_per_thousand - novos testes por mil\n",
        "* ...new_tests_smoothed - novos testes suavizados\n",
        "* ...new_tests_smoothed_per_thousand - novos testes suavizados por mil \n",
        "* ...tests_units - unidades de teste\n",
        "* ...stringency_index - índice de rigor\n",
        "* ...population - população\n",
        "* ...population_density - densidade populacional\n",
        "* ...median_age - idade média\n",
        "* ...aged_65_older - com 65 anos de idade\n",
        "* ...aged_70_older - com 70 anos de idade\n",
        "* ...gdp_per_capita - PIB per capita\n",
        "* ...extreme_poverty - pobreza extrema\n",
        "* ...cvd_death_rate - taxa de mortalidade\n",
        "* ...diabetes_prevalence - prevalência de diabetes\n",
        "* ...female_smokers - fumantes femininas\n",
        "* ...male_smokers - fumantes masculinos\n",
        "* ...handwashing_facilities - instalações de lavagens das mãos\n",
        "* ...hospital_beds_per_thousand - leitos de hospital por mil habitantes"
      ]
    },
    {
      "cell_type": "markdown",
      "metadata": {
        "id": "NYuHpg0So43k"
      },
      "source": [
        "## Importando os dados do Covid-19\n",
        "\n",
        "*  Os dados utilizados nesta análise foram obtidos em (https://raw.githubusercontent.com/Pedro-Henrique8899-eng/data_science_sigmoidal/main/owid-covid-data.csv). Utilizaremos o formato `csv` desse arquivo.\n",
        "\n",
        "\n",
        "\n",
        "*  A variável `df` irá receber o endereço do arquivo\n",
        "\n",
        "   df = pd.read_csv('Endereço_do_arquivo.csv')"
      ]
    },
    {
      "cell_type": "code",
      "metadata": {
        "id": "cAUIena9pghD"
      },
      "source": [
        "# importando as bibliotecas necessárias\n",
        "import pandas as pd\n",
        "import numpy as np\n",
        "import matplotlib.pyplot as plt\n",
        "import seaborn as sns"
      ],
      "execution_count": 2,
      "outputs": []
    },
    {
      "cell_type": "code",
      "metadata": {
        "id": "rfwTJcq2ruVl"
      },
      "source": [
        "# importando o Dataset da Covid-19 para um DataFrame\n",
        "df = pd.read_csv('https://raw.githubusercontent.com/Pedro-Henrique8899-eng/data_science_sigmoidal/main/owid-covid-data.csv')\n"
      ],
      "execution_count": 4,
      "outputs": []
    },
    {
      "cell_type": "markdown",
      "metadata": {
        "id": "SVOYxIuWtR2k"
      },
      "source": [
        "## Análise Exploratória de Dados\n",
        "\n",
        "A etapa de análise exploratória dos dados é uma etapa extremamente importante, pois será através dela que vamos obter informações referentes aos dados que estamos trabalhando e como eles estão estruturados.\n"
      ]
    },
    {
      "cell_type": "markdown",
      "metadata": {
        "id": "z01nja1DtBG7"
      },
      "source": [
        "## Análise Exploratória inicial\n",
        "\n",
        "De início, faremos uma breve exploração dos dados afim de verificar algumas informações relevantes para que possamos prosseguir para uma análise um pouco mais detalhada."
      ]
    },
    {
      "cell_type": "code",
      "metadata": {
        "id": "6g-mQ6tHtmCT",
        "outputId": "a93fc62d-68aa-492c-c492-645bf3346c85",
        "colab": {
          "base_uri": "https://localhost:8080/"
        }
      },
      "source": [
        "# verificando as primeiras 5 entradas do DataFrame\n",
        "print('Quantidade de linhas: {}' .format(df.shape[0]))\n",
        "print('Quantidade de colunas: {}'.format(df.shape[1]))"
      ],
      "execution_count": 13,
      "outputs": [
        {
          "output_type": "stream",
          "text": [
            "Quantidade de linhas: 75558\n",
            "Quantidade de colunas: 59\n"
          ],
          "name": "stdout"
        }
      ]
    },
    {
      "cell_type": "markdown",
      "metadata": {
        "id": "8O19c6RSvgS8"
      },
      "source": [
        "Acima podemos observar que o nosso dataset possui 75558 linhas e 59 colunas."
      ]
    },
    {
      "cell_type": "code",
      "metadata": {
        "id": "76-3cnmwtznc",
        "outputId": "9b75450e-8330-42d7-b808-57c8bde4e88e",
        "colab": {
          "base_uri": "https://localhost:8080/",
          "height": 299
        }
      },
      "source": [
        "# verificando as primeiras 5 entradas\n",
        "df.head() "
      ],
      "execution_count": 23,
      "outputs": [
        {
          "output_type": "execute_result",
          "data": {
            "text/html": [
              "<div>\n",
              "<style scoped>\n",
              "    .dataframe tbody tr th:only-of-type {\n",
              "        vertical-align: middle;\n",
              "    }\n",
              "\n",
              "    .dataframe tbody tr th {\n",
              "        vertical-align: top;\n",
              "    }\n",
              "\n",
              "    .dataframe thead th {\n",
              "        text-align: right;\n",
              "    }\n",
              "</style>\n",
              "<table border=\"1\" class=\"dataframe\">\n",
              "  <thead>\n",
              "    <tr style=\"text-align: right;\">\n",
              "      <th></th>\n",
              "      <th>iso_code</th>\n",
              "      <th>continent</th>\n",
              "      <th>location</th>\n",
              "      <th>date</th>\n",
              "      <th>total_cases</th>\n",
              "      <th>new_cases</th>\n",
              "      <th>new_cases_smoothed</th>\n",
              "      <th>total_deaths</th>\n",
              "      <th>new_deaths</th>\n",
              "      <th>new_deaths_smoothed</th>\n",
              "      <th>total_cases_per_million</th>\n",
              "      <th>new_cases_per_million</th>\n",
              "      <th>new_cases_smoothed_per_million</th>\n",
              "      <th>total_deaths_per_million</th>\n",
              "      <th>new_deaths_per_million</th>\n",
              "      <th>new_deaths_smoothed_per_million</th>\n",
              "      <th>reproduction_rate</th>\n",
              "      <th>icu_patients</th>\n",
              "      <th>icu_patients_per_million</th>\n",
              "      <th>hosp_patients</th>\n",
              "      <th>hosp_patients_per_million</th>\n",
              "      <th>weekly_icu_admissions</th>\n",
              "      <th>weekly_icu_admissions_per_million</th>\n",
              "      <th>weekly_hosp_admissions</th>\n",
              "      <th>weekly_hosp_admissions_per_million</th>\n",
              "      <th>new_tests</th>\n",
              "      <th>total_tests</th>\n",
              "      <th>total_tests_per_thousand</th>\n",
              "      <th>new_tests_per_thousand</th>\n",
              "      <th>new_tests_smoothed</th>\n",
              "      <th>new_tests_smoothed_per_thousand</th>\n",
              "      <th>positive_rate</th>\n",
              "      <th>tests_per_case</th>\n",
              "      <th>tests_units</th>\n",
              "      <th>total_vaccinations</th>\n",
              "      <th>people_vaccinated</th>\n",
              "      <th>people_fully_vaccinated</th>\n",
              "      <th>new_vaccinations</th>\n",
              "      <th>new_vaccinations_smoothed</th>\n",
              "      <th>total_vaccinations_per_hundred</th>\n",
              "      <th>people_vaccinated_per_hundred</th>\n",
              "      <th>people_fully_vaccinated_per_hundred</th>\n",
              "      <th>new_vaccinations_smoothed_per_million</th>\n",
              "      <th>stringency_index</th>\n",
              "      <th>population</th>\n",
              "      <th>population_density</th>\n",
              "      <th>median_age</th>\n",
              "      <th>aged_65_older</th>\n",
              "      <th>aged_70_older</th>\n",
              "      <th>gdp_per_capita</th>\n",
              "      <th>extreme_poverty</th>\n",
              "      <th>cardiovasc_death_rate</th>\n",
              "      <th>diabetes_prevalence</th>\n",
              "      <th>female_smokers</th>\n",
              "      <th>male_smokers</th>\n",
              "      <th>handwashing_facilities</th>\n",
              "      <th>hospital_beds_per_thousand</th>\n",
              "      <th>life_expectancy</th>\n",
              "      <th>human_development_index</th>\n",
              "    </tr>\n",
              "  </thead>\n",
              "  <tbody>\n",
              "    <tr>\n",
              "      <th>0</th>\n",
              "      <td>AFG</td>\n",
              "      <td>Asia</td>\n",
              "      <td>Afghanistan</td>\n",
              "      <td>2020-02-24</td>\n",
              "      <td>1.0</td>\n",
              "      <td>1.0</td>\n",
              "      <td>NaN</td>\n",
              "      <td>NaN</td>\n",
              "      <td>NaN</td>\n",
              "      <td>NaN</td>\n",
              "      <td>0.026</td>\n",
              "      <td>0.026</td>\n",
              "      <td>NaN</td>\n",
              "      <td>NaN</td>\n",
              "      <td>NaN</td>\n",
              "      <td>NaN</td>\n",
              "      <td>NaN</td>\n",
              "      <td>NaN</td>\n",
              "      <td>NaN</td>\n",
              "      <td>NaN</td>\n",
              "      <td>NaN</td>\n",
              "      <td>NaN</td>\n",
              "      <td>NaN</td>\n",
              "      <td>NaN</td>\n",
              "      <td>NaN</td>\n",
              "      <td>NaN</td>\n",
              "      <td>NaN</td>\n",
              "      <td>NaN</td>\n",
              "      <td>NaN</td>\n",
              "      <td>NaN</td>\n",
              "      <td>NaN</td>\n",
              "      <td>NaN</td>\n",
              "      <td>NaN</td>\n",
              "      <td>NaN</td>\n",
              "      <td>NaN</td>\n",
              "      <td>NaN</td>\n",
              "      <td>NaN</td>\n",
              "      <td>NaN</td>\n",
              "      <td>NaN</td>\n",
              "      <td>NaN</td>\n",
              "      <td>NaN</td>\n",
              "      <td>NaN</td>\n",
              "      <td>NaN</td>\n",
              "      <td>8.33</td>\n",
              "      <td>38928341.0</td>\n",
              "      <td>54.422</td>\n",
              "      <td>18.6</td>\n",
              "      <td>2.581</td>\n",
              "      <td>1.337</td>\n",
              "      <td>1803.987</td>\n",
              "      <td>NaN</td>\n",
              "      <td>597.029</td>\n",
              "      <td>9.59</td>\n",
              "      <td>NaN</td>\n",
              "      <td>NaN</td>\n",
              "      <td>37.746</td>\n",
              "      <td>0.5</td>\n",
              "      <td>64.83</td>\n",
              "      <td>0.511</td>\n",
              "    </tr>\n",
              "    <tr>\n",
              "      <th>1</th>\n",
              "      <td>AFG</td>\n",
              "      <td>Asia</td>\n",
              "      <td>Afghanistan</td>\n",
              "      <td>2020-02-25</td>\n",
              "      <td>1.0</td>\n",
              "      <td>0.0</td>\n",
              "      <td>NaN</td>\n",
              "      <td>NaN</td>\n",
              "      <td>NaN</td>\n",
              "      <td>NaN</td>\n",
              "      <td>0.026</td>\n",
              "      <td>0.000</td>\n",
              "      <td>NaN</td>\n",
              "      <td>NaN</td>\n",
              "      <td>NaN</td>\n",
              "      <td>NaN</td>\n",
              "      <td>NaN</td>\n",
              "      <td>NaN</td>\n",
              "      <td>NaN</td>\n",
              "      <td>NaN</td>\n",
              "      <td>NaN</td>\n",
              "      <td>NaN</td>\n",
              "      <td>NaN</td>\n",
              "      <td>NaN</td>\n",
              "      <td>NaN</td>\n",
              "      <td>NaN</td>\n",
              "      <td>NaN</td>\n",
              "      <td>NaN</td>\n",
              "      <td>NaN</td>\n",
              "      <td>NaN</td>\n",
              "      <td>NaN</td>\n",
              "      <td>NaN</td>\n",
              "      <td>NaN</td>\n",
              "      <td>NaN</td>\n",
              "      <td>NaN</td>\n",
              "      <td>NaN</td>\n",
              "      <td>NaN</td>\n",
              "      <td>NaN</td>\n",
              "      <td>NaN</td>\n",
              "      <td>NaN</td>\n",
              "      <td>NaN</td>\n",
              "      <td>NaN</td>\n",
              "      <td>NaN</td>\n",
              "      <td>8.33</td>\n",
              "      <td>38928341.0</td>\n",
              "      <td>54.422</td>\n",
              "      <td>18.6</td>\n",
              "      <td>2.581</td>\n",
              "      <td>1.337</td>\n",
              "      <td>1803.987</td>\n",
              "      <td>NaN</td>\n",
              "      <td>597.029</td>\n",
              "      <td>9.59</td>\n",
              "      <td>NaN</td>\n",
              "      <td>NaN</td>\n",
              "      <td>37.746</td>\n",
              "      <td>0.5</td>\n",
              "      <td>64.83</td>\n",
              "      <td>0.511</td>\n",
              "    </tr>\n",
              "    <tr>\n",
              "      <th>2</th>\n",
              "      <td>AFG</td>\n",
              "      <td>Asia</td>\n",
              "      <td>Afghanistan</td>\n",
              "      <td>2020-02-26</td>\n",
              "      <td>1.0</td>\n",
              "      <td>0.0</td>\n",
              "      <td>NaN</td>\n",
              "      <td>NaN</td>\n",
              "      <td>NaN</td>\n",
              "      <td>NaN</td>\n",
              "      <td>0.026</td>\n",
              "      <td>0.000</td>\n",
              "      <td>NaN</td>\n",
              "      <td>NaN</td>\n",
              "      <td>NaN</td>\n",
              "      <td>NaN</td>\n",
              "      <td>NaN</td>\n",
              "      <td>NaN</td>\n",
              "      <td>NaN</td>\n",
              "      <td>NaN</td>\n",
              "      <td>NaN</td>\n",
              "      <td>NaN</td>\n",
              "      <td>NaN</td>\n",
              "      <td>NaN</td>\n",
              "      <td>NaN</td>\n",
              "      <td>NaN</td>\n",
              "      <td>NaN</td>\n",
              "      <td>NaN</td>\n",
              "      <td>NaN</td>\n",
              "      <td>NaN</td>\n",
              "      <td>NaN</td>\n",
              "      <td>NaN</td>\n",
              "      <td>NaN</td>\n",
              "      <td>NaN</td>\n",
              "      <td>NaN</td>\n",
              "      <td>NaN</td>\n",
              "      <td>NaN</td>\n",
              "      <td>NaN</td>\n",
              "      <td>NaN</td>\n",
              "      <td>NaN</td>\n",
              "      <td>NaN</td>\n",
              "      <td>NaN</td>\n",
              "      <td>NaN</td>\n",
              "      <td>8.33</td>\n",
              "      <td>38928341.0</td>\n",
              "      <td>54.422</td>\n",
              "      <td>18.6</td>\n",
              "      <td>2.581</td>\n",
              "      <td>1.337</td>\n",
              "      <td>1803.987</td>\n",
              "      <td>NaN</td>\n",
              "      <td>597.029</td>\n",
              "      <td>9.59</td>\n",
              "      <td>NaN</td>\n",
              "      <td>NaN</td>\n",
              "      <td>37.746</td>\n",
              "      <td>0.5</td>\n",
              "      <td>64.83</td>\n",
              "      <td>0.511</td>\n",
              "    </tr>\n",
              "    <tr>\n",
              "      <th>3</th>\n",
              "      <td>AFG</td>\n",
              "      <td>Asia</td>\n",
              "      <td>Afghanistan</td>\n",
              "      <td>2020-02-27</td>\n",
              "      <td>1.0</td>\n",
              "      <td>0.0</td>\n",
              "      <td>NaN</td>\n",
              "      <td>NaN</td>\n",
              "      <td>NaN</td>\n",
              "      <td>NaN</td>\n",
              "      <td>0.026</td>\n",
              "      <td>0.000</td>\n",
              "      <td>NaN</td>\n",
              "      <td>NaN</td>\n",
              "      <td>NaN</td>\n",
              "      <td>NaN</td>\n",
              "      <td>NaN</td>\n",
              "      <td>NaN</td>\n",
              "      <td>NaN</td>\n",
              "      <td>NaN</td>\n",
              "      <td>NaN</td>\n",
              "      <td>NaN</td>\n",
              "      <td>NaN</td>\n",
              "      <td>NaN</td>\n",
              "      <td>NaN</td>\n",
              "      <td>NaN</td>\n",
              "      <td>NaN</td>\n",
              "      <td>NaN</td>\n",
              "      <td>NaN</td>\n",
              "      <td>NaN</td>\n",
              "      <td>NaN</td>\n",
              "      <td>NaN</td>\n",
              "      <td>NaN</td>\n",
              "      <td>NaN</td>\n",
              "      <td>NaN</td>\n",
              "      <td>NaN</td>\n",
              "      <td>NaN</td>\n",
              "      <td>NaN</td>\n",
              "      <td>NaN</td>\n",
              "      <td>NaN</td>\n",
              "      <td>NaN</td>\n",
              "      <td>NaN</td>\n",
              "      <td>NaN</td>\n",
              "      <td>8.33</td>\n",
              "      <td>38928341.0</td>\n",
              "      <td>54.422</td>\n",
              "      <td>18.6</td>\n",
              "      <td>2.581</td>\n",
              "      <td>1.337</td>\n",
              "      <td>1803.987</td>\n",
              "      <td>NaN</td>\n",
              "      <td>597.029</td>\n",
              "      <td>9.59</td>\n",
              "      <td>NaN</td>\n",
              "      <td>NaN</td>\n",
              "      <td>37.746</td>\n",
              "      <td>0.5</td>\n",
              "      <td>64.83</td>\n",
              "      <td>0.511</td>\n",
              "    </tr>\n",
              "    <tr>\n",
              "      <th>4</th>\n",
              "      <td>AFG</td>\n",
              "      <td>Asia</td>\n",
              "      <td>Afghanistan</td>\n",
              "      <td>2020-02-28</td>\n",
              "      <td>1.0</td>\n",
              "      <td>0.0</td>\n",
              "      <td>NaN</td>\n",
              "      <td>NaN</td>\n",
              "      <td>NaN</td>\n",
              "      <td>NaN</td>\n",
              "      <td>0.026</td>\n",
              "      <td>0.000</td>\n",
              "      <td>NaN</td>\n",
              "      <td>NaN</td>\n",
              "      <td>NaN</td>\n",
              "      <td>NaN</td>\n",
              "      <td>NaN</td>\n",
              "      <td>NaN</td>\n",
              "      <td>NaN</td>\n",
              "      <td>NaN</td>\n",
              "      <td>NaN</td>\n",
              "      <td>NaN</td>\n",
              "      <td>NaN</td>\n",
              "      <td>NaN</td>\n",
              "      <td>NaN</td>\n",
              "      <td>NaN</td>\n",
              "      <td>NaN</td>\n",
              "      <td>NaN</td>\n",
              "      <td>NaN</td>\n",
              "      <td>NaN</td>\n",
              "      <td>NaN</td>\n",
              "      <td>NaN</td>\n",
              "      <td>NaN</td>\n",
              "      <td>NaN</td>\n",
              "      <td>NaN</td>\n",
              "      <td>NaN</td>\n",
              "      <td>NaN</td>\n",
              "      <td>NaN</td>\n",
              "      <td>NaN</td>\n",
              "      <td>NaN</td>\n",
              "      <td>NaN</td>\n",
              "      <td>NaN</td>\n",
              "      <td>NaN</td>\n",
              "      <td>8.33</td>\n",
              "      <td>38928341.0</td>\n",
              "      <td>54.422</td>\n",
              "      <td>18.6</td>\n",
              "      <td>2.581</td>\n",
              "      <td>1.337</td>\n",
              "      <td>1803.987</td>\n",
              "      <td>NaN</td>\n",
              "      <td>597.029</td>\n",
              "      <td>9.59</td>\n",
              "      <td>NaN</td>\n",
              "      <td>NaN</td>\n",
              "      <td>37.746</td>\n",
              "      <td>0.5</td>\n",
              "      <td>64.83</td>\n",
              "      <td>0.511</td>\n",
              "    </tr>\n",
              "  </tbody>\n",
              "</table>\n",
              "</div>"
            ],
            "text/plain": [
              "  iso_code continent  ... life_expectancy human_development_index\n",
              "0      AFG      Asia  ...           64.83                   0.511\n",
              "1      AFG      Asia  ...           64.83                   0.511\n",
              "2      AFG      Asia  ...           64.83                   0.511\n",
              "3      AFG      Asia  ...           64.83                   0.511\n",
              "4      AFG      Asia  ...           64.83                   0.511\n",
              "\n",
              "[5 rows x 59 columns]"
            ]
          },
          "metadata": {
            "tags": []
          },
          "execution_count": 23
        }
      ]
    },
    {
      "cell_type": "code",
      "metadata": {
        "id": "nSE994H_u6AL",
        "outputId": "5fdd932c-3ac1-49f2-ef31-008acdcc13c3",
        "colab": {
          "base_uri": "https://localhost:8080/"
        }
      },
      "source": [
        "# verificando o nome das colunas\n",
        "df.columns"
      ],
      "execution_count": 26,
      "outputs": [
        {
          "output_type": "execute_result",
          "data": {
            "text/plain": [
              "Index(['iso_code', 'continent', 'location', 'date', 'total_cases', 'new_cases',\n",
              "       'new_cases_smoothed', 'total_deaths', 'new_deaths',\n",
              "       'new_deaths_smoothed', 'total_cases_per_million',\n",
              "       'new_cases_per_million', 'new_cases_smoothed_per_million',\n",
              "       'total_deaths_per_million', 'new_deaths_per_million',\n",
              "       'new_deaths_smoothed_per_million', 'reproduction_rate', 'icu_patients',\n",
              "       'icu_patients_per_million', 'hosp_patients',\n",
              "       'hosp_patients_per_million', 'weekly_icu_admissions',\n",
              "       'weekly_icu_admissions_per_million', 'weekly_hosp_admissions',\n",
              "       'weekly_hosp_admissions_per_million', 'new_tests', 'total_tests',\n",
              "       'total_tests_per_thousand', 'new_tests_per_thousand',\n",
              "       'new_tests_smoothed', 'new_tests_smoothed_per_thousand',\n",
              "       'positive_rate', 'tests_per_case', 'tests_units', 'total_vaccinations',\n",
              "       'people_vaccinated', 'people_fully_vaccinated', 'new_vaccinations',\n",
              "       'new_vaccinations_smoothed', 'total_vaccinations_per_hundred',\n",
              "       'people_vaccinated_per_hundred', 'people_fully_vaccinated_per_hundred',\n",
              "       'new_vaccinations_smoothed_per_million', 'stringency_index',\n",
              "       'population', 'population_density', 'median_age', 'aged_65_older',\n",
              "       'aged_70_older', 'gdp_per_capita', 'extreme_poverty',\n",
              "       'cardiovasc_death_rate', 'diabetes_prevalence', 'female_smokers',\n",
              "       'male_smokers', 'handwashing_facilities', 'hospital_beds_per_thousand',\n",
              "       'life_expectancy', 'human_development_index'],\n",
              "      dtype='object')"
            ]
          },
          "metadata": {
            "tags": []
          },
          "execution_count": 26
        }
      ]
    },
    {
      "cell_type": "markdown",
      "metadata": {
        "id": "q7q9hSN6wdib"
      },
      "source": [
        "Podemos verificar todos os nomes de cada uma das colunas do nosso DataFrame."
      ]
    },
    {
      "cell_type": "markdown",
      "metadata": {
        "id": "lNG-KT9A7V2x"
      },
      "source": [
        "A variável date é dada como um objeto do tipo string. Com isso, vamos transformá-la em um objeto do tipo datetime."
      ]
    },
    {
      "cell_type": "code",
      "metadata": {
        "id": "9q1v3scp7dis"
      },
      "source": [
        "# transformando a variável date em um objeto do tipo datetime\n",
        "df['date'] = pd.to_datetime(df.date)"
      ],
      "execution_count": 46,
      "outputs": []
    },
    {
      "cell_type": "code",
      "metadata": {
        "id": "NNcB6r6YxZo2",
        "outputId": "e462feb7-4e07-408c-b9a9-a4872cc957b2",
        "colab": {
          "base_uri": "https://localhost:8080/"
        }
      },
      "source": [
        "# verificando os tipos das variáveis\n",
        "df.dtypes"
      ],
      "execution_count": 47,
      "outputs": [
        {
          "output_type": "execute_result",
          "data": {
            "text/plain": [
              "iso_code                                         object\n",
              "continent                                        object\n",
              "location                                         object\n",
              "date                                     datetime64[ns]\n",
              "total_cases                                     float64\n",
              "new_cases                                       float64\n",
              "new_cases_smoothed                              float64\n",
              "total_deaths                                    float64\n",
              "new_deaths                                      float64\n",
              "new_deaths_smoothed                             float64\n",
              "total_cases_per_million                         float64\n",
              "new_cases_per_million                           float64\n",
              "new_cases_smoothed_per_million                  float64\n",
              "total_deaths_per_million                        float64\n",
              "new_deaths_per_million                          float64\n",
              "new_deaths_smoothed_per_million                 float64\n",
              "reproduction_rate                               float64\n",
              "icu_patients                                    float64\n",
              "icu_patients_per_million                        float64\n",
              "hosp_patients                                   float64\n",
              "hosp_patients_per_million                       float64\n",
              "weekly_icu_admissions                           float64\n",
              "weekly_icu_admissions_per_million               float64\n",
              "weekly_hosp_admissions                          float64\n",
              "weekly_hosp_admissions_per_million              float64\n",
              "new_tests                                       float64\n",
              "total_tests                                     float64\n",
              "total_tests_per_thousand                        float64\n",
              "new_tests_per_thousand                          float64\n",
              "new_tests_smoothed                              float64\n",
              "new_tests_smoothed_per_thousand                 float64\n",
              "positive_rate                                   float64\n",
              "tests_per_case                                  float64\n",
              "tests_units                                      object\n",
              "total_vaccinations                              float64\n",
              "people_vaccinated                               float64\n",
              "people_fully_vaccinated                         float64\n",
              "new_vaccinations                                float64\n",
              "new_vaccinations_smoothed                       float64\n",
              "total_vaccinations_per_hundred                  float64\n",
              "people_vaccinated_per_hundred                   float64\n",
              "people_fully_vaccinated_per_hundred             float64\n",
              "new_vaccinations_smoothed_per_million           float64\n",
              "stringency_index                                float64\n",
              "population                                      float64\n",
              "population_density                              float64\n",
              "median_age                                      float64\n",
              "aged_65_older                                   float64\n",
              "aged_70_older                                   float64\n",
              "gdp_per_capita                                  float64\n",
              "extreme_poverty                                 float64\n",
              "cardiovasc_death_rate                           float64\n",
              "diabetes_prevalence                             float64\n",
              "female_smokers                                  float64\n",
              "male_smokers                                    float64\n",
              "handwashing_facilities                          float64\n",
              "hospital_beds_per_thousand                      float64\n",
              "life_expectancy                                 float64\n",
              "human_development_index                         float64\n",
              "dtype: object"
            ]
          },
          "metadata": {
            "tags": []
          },
          "execution_count": 47
        }
      ]
    },
    {
      "cell_type": "markdown",
      "metadata": {
        "id": "iEpZqQNk8CNh"
      },
      "source": [
        "É importante que verifiquemos a porcentagem de valores nulos em cada uma das colunas do nosso Quadro de Dados. Faremos isso na ordem decrescente."
      ]
    },
    {
      "cell_type": "code",
      "metadata": {
        "id": "c2KHww-Z8YLy",
        "outputId": "eea49a42-501e-45ca-c13f-59cc1c2f2713",
        "colab": {
          "base_uri": "https://localhost:8080/"
        }
      },
      "source": [
        "# verificando a porcentagem de valores nulos em cada coluna\n",
        "(df.isnull().sum() / df.shape[0]).sort_values(ascending=False)"
      ],
      "execution_count": 50,
      "outputs": [
        {
          "output_type": "execute_result",
          "data": {
            "text/plain": [
              "weekly_icu_admissions                    0.990961\n",
              "weekly_icu_admissions_per_million        0.990961\n",
              "weekly_hosp_admissions                   0.983311\n",
              "weekly_hosp_admissions_per_million       0.983311\n",
              "people_fully_vaccinated                  0.962585\n",
              "people_fully_vaccinated_per_hundred      0.962585\n",
              "new_vaccinations                         0.946690\n",
              "people_vaccinated                        0.943950\n",
              "people_vaccinated_per_hundred            0.943950\n",
              "total_vaccinations                       0.937558\n",
              "total_vaccinations_per_hundred           0.937558\n",
              "new_vaccinations_smoothed                0.906350\n",
              "new_vaccinations_smoothed_per_million    0.906350\n",
              "icu_patients                             0.897311\n",
              "icu_patients_per_million                 0.897311\n",
              "hosp_patients                            0.876426\n",
              "hosp_patients_per_million                0.876426\n",
              "total_tests                              0.550742\n",
              "total_tests_per_thousand                 0.550742\n",
              "new_tests                                0.547831\n",
              "new_tests_per_thousand                   0.547831\n",
              "handwashing_facilities                   0.539069\n",
              "tests_per_case                           0.508444\n",
              "positive_rate                            0.500781\n",
              "new_tests_smoothed_per_thousand          0.483787\n",
              "new_tests_smoothed                       0.483787\n",
              "tests_units                              0.466066\n",
              "extreme_poverty                          0.379232\n",
              "male_smokers                             0.288520\n",
              "female_smokers                           0.278607\n",
              "reproduction_rate                        0.195955\n",
              "hospital_beds_per_thousand               0.159983\n",
              "total_deaths_per_million                 0.144167\n",
              "stringency_index                         0.142976\n",
              "new_deaths_per_million                   0.142076\n",
              "total_deaths                             0.138979\n",
              "new_deaths                               0.136888\n",
              "aged_65_older                            0.103563\n",
              "aged_70_older                            0.098242\n",
              "median_age                               0.093134\n",
              "gdp_per_capita                           0.090037\n",
              "human_development_index                  0.082652\n",
              "cardiovasc_death_rate                    0.081871\n",
              "diabetes_prevalence                      0.070026\n",
              "population_density                       0.066638\n",
              "life_expectancy                          0.049843\n",
              "continent                                0.049168\n",
              "new_cases_smoothed_per_million           0.035006\n",
              "new_deaths_smoothed_per_million          0.035006\n",
              "new_deaths_smoothed                      0.029712\n",
              "new_cases_smoothed                       0.029712\n",
              "new_cases_per_million                    0.021824\n",
              "total_cases_per_million                  0.021798\n",
              "new_cases                                0.016464\n",
              "total_cases                              0.016438\n",
              "population                               0.005479\n",
              "date                                     0.000000\n",
              "location                                 0.000000\n",
              "iso_code                                 0.000000\n",
              "dtype: float64"
            ]
          },
          "metadata": {
            "tags": []
          },
          "execution_count": 50
        }
      ]
    },
    {
      "cell_type": "code",
      "metadata": {
        "id": "cD7o_h_U8rUU"
      },
      "source": [
        ""
      ],
      "execution_count": null,
      "outputs": []
    }
  ]
}